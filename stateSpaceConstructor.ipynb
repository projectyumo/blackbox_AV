{
 "cells": [
  {
   "cell_type": "code",
   "execution_count": 8,
   "id": "c7db4461",
   "metadata": {},
   "outputs": [],
   "source": [
    "import math\n",
    "import random\n",
    "import cv2\n",
    "import numpy as np\n",
    "import matplotlib.pyplot as plt"
   ]
  },
  {
   "cell_type": "markdown",
   "id": "ca68ea74",
   "metadata": {},
   "source": [
    "# Simple Car class to hold variables"
   ]
  },
  {
   "cell_type": "code",
   "execution_count": 15,
   "id": "43561e1d",
   "metadata": {},
   "outputs": [],
   "source": [
    "class Car:\n",
    "    def __init__(self,\n",
    "                x=256,\n",
    "                y=256,\n",
    "                velocity=40,\n",
    "                surrounding_size=512, \n",
    "                orientation='v'):\n",
    "        self.COREX = int(surrounding_size/2)\n",
    "        self.COREY = int(surrounding_size/2)\n",
    "        self.x = x\n",
    "        self.y = y\n",
    "        self.orientation = orientation\n",
    "        \n",
    "        self.velocity = velocity\n",
    "        # self.acceleration\n",
    "        # self.rotation\n",
    "        \n",
    "    def getDistance(self):\n",
    "        return ( (self.x-self.COREX)**2 + (self.y-self.COREY)**2 )**0.5\n",
    "    \n",
    "    def draw(self, surrounding, color=255):\n",
    "        if self.orientation == 'v':\n",
    "            surrounding[self.y-2:self.y+2, self.x-1:self.x+1] = color\n",
    "        else:\n",
    "            surrounding[self.y-1:self.y+1, self.x-2:self.x+2] = color"
   ]
  },
  {
   "cell_type": "markdown",
   "id": "47e4b2d8",
   "metadata": {},
   "source": [
    "### Create First Person Car (EgoCar)"
   ]
  },
  {
   "cell_type": "code",
   "execution_count": 16,
   "id": "be32dd49",
   "metadata": {},
   "outputs": [
    {
     "name": "stdout",
     "output_type": "stream",
     "text": [
      "Generated car is 0.0 away\n"
     ]
    }
   ],
   "source": [
    "surrounding_size = 256   \n",
    "egoCar = Car(int(surrounding_size/2), int(surrounding_size/2), 40, surrounding_size, orientation='v')\n",
    "print('Generated car is', egoCar.getDistance(), 'away')"
   ]
  },
  {
   "cell_type": "markdown",
   "id": "c4c334fd",
   "metadata": {},
   "source": [
    "# Generate Cars"
   ]
  },
  {
   "cell_type": "code",
   "execution_count": 17,
   "id": "0fc2ea9c",
   "metadata": {},
   "outputs": [
    {
     "name": "stdout",
     "output_type": "stream",
     "text": [
      "Allowed X: 252\n",
      "Allowed Y: 250\n",
      "30 cars created!\n"
     ]
    }
   ],
   "source": [
    "surrounding_mid = int(surrounding_size/2)\n",
    "possible_x = list(range(0, surrounding_mid-2)) + list(range(surrounding_mid+2, surrounding_size))\n",
    "print(\"Allowed X:\", len(possible_x))\n",
    "\n",
    "possible_y = list(range(0, surrounding_mid-3)) + list(range(surrounding_mid+3, surrounding_size))\n",
    "print(\"Allowed Y:\", len(possible_y))\n",
    "\n",
    "possible_v = list(range(40))\n",
    "\n",
    "numCars = 30\n",
    "cars = [Car(random.choice(possible_x), \n",
    "            random.choice(possible_y), \n",
    "            random.choice(possible_v), \n",
    "            surrounding_size, \n",
    "            random.choice(['h', 'v'])) for _ in range(numCars)]\n",
    "\n",
    "print(len(cars), \"cars created!\")\n"
   ]
  },
  {
   "cell_type": "markdown",
   "id": "7fc74ea8",
   "metadata": {},
   "source": [
    "# Display Cars on BEV"
   ]
  },
  {
   "cell_type": "code",
   "execution_count": 21,
   "id": "9367447a",
   "metadata": {},
   "outputs": [
    {
     "data": {
      "image/png": "[encoded data removed]",
      "text/plain": [
       "<Figure size 432x288 with 1 Axes>"
      ]
     },
     "metadata": {
      "needs_background": "light"
     },
     "output_type": "display_data"
    },
    {
     "data": {
      "image/png": "[encoded data removed]",
      "text/plain": [
       "<Figure size 432x288 with 1 Axes>"
      ]
     },
     "metadata": {
      "needs_background": "light"
     },
     "output_type": "display_data"
    }
   ],
   "source": [
    "# Blank layout\n",
    "surrounding = np.zeros((surrounding_size, surrounding_size))\n",
    "v_surrounding = np.zeros((surrounding_size, surrounding_size))\n",
    "\n",
    "# Draw EgoCar\n",
    "egoCar.draw(surrounding)\n",
    "egoCar.draw(v_surrounding, egoCar.velocity*5)\n",
    "\n",
    "# Draw other cars\n",
    "for c in cars: \n",
    "    c.draw(surrounding, color=120)\n",
    "    c.draw(v_surrounding, color=c.velocity*5)\n",
    "\n",
    "plt.figure()\n",
    "plt.imshow(surrounding)\n",
    "plt.show()\n",
    "\n",
    "plt.figure()\n",
    "plt.imshow(v_surrounding)\n",
    "plt.show()"
   ]
  },
  {
   "cell_type": "code",
   "execution_count": 37,
   "id": "c94d4c7a",
   "metadata": {},
   "outputs": [],
   "source": [
    "import torch\n",
    "from torch import nn\n",
    "from torch.nn.utils import spectral_norm\n",
    "\n",
    "class CNN(torch.nn.Module):\n",
    "    def __init__(self, \n",
    "                 nc, \n",
    "                 nfm, \n",
    "                 img_size,\n",
    "                 out_dim = 1):\n",
    "        super(CNN, self).__init__()\n",
    "\n",
    "        exp = int( math.log(img_size)/math.log(2) )\n",
    "\n",
    "        self.cnn = [spectral_norm(nn.Conv2d(nc, nfm, 4, 2, 1)),\n",
    "                   nn.ReLU()]\n",
    "\n",
    "        for i in range(exp-3):\n",
    "          self.cnn += [spectral_norm(nn.Conv2d( nfm*(2**i) , nfm*( 2**(i+1) ), 4, 2, 1)),\n",
    "                      nn.ReLU()]\n",
    "\n",
    "        self.cnn += [spectral_norm(nn.Conv2d( nfm*( 2**(exp-3) ), out_dim, 4, 1, 0)),\n",
    "                    nn.Sigmoid()]\n",
    "\n",
    "        self.cnn = nn.Sequential(*self.cnn)\n",
    "\n",
    "    def forward(self, inputs):\n",
    "        return self.cnn(inputs)"
   ]
  },
  {
   "cell_type": "code",
   "execution_count": 38,
   "id": "9ff26be1",
   "metadata": {},
   "outputs": [
    {
     "name": "stdout",
     "output_type": "stream",
     "text": [
      "Stacked Vehicle Properties: torch.Size([2, 256, 256])\n"
     ]
    }
   ],
   "source": [
    "t_surrounding = torch.Tensor(surrounding).unsqueeze(0)\n",
    "t_vsurrounding = torch.Tensor(v_surrounding).unsqueeze(0)\n",
    "sample_input = torch.cat([t_surrounding, t_vsurrounding], axis=0)\n",
    "print('Stacked Vehicle Properties:', sample_input.shape)"
   ]
  },
  {
   "cell_type": "code",
   "execution_count": 40,
   "id": "89b41a38",
   "metadata": {},
   "outputs": [
    {
     "data": {
      "text/plain": [
       "tensor([0.5074, 0.4610, 0.5739, 0.3011, 0.5231, 0.6097, 0.5656, 0.6365, 0.5775,\n",
       "        0.6070, 0.4182, 0.5050, 0.4004, 0.5243, 0.3860, 0.5732, 0.4573, 0.4447,\n",
       "        0.4825, 0.5510, 0.4461, 0.5703, 0.5248, 0.4021, 0.4559, 0.5085, 0.5227,\n",
       "        0.6005, 0.5334, 0.4573, 0.4937, 0.4551, 0.5636, 0.4834, 0.6317, 0.4614,\n",
       "        0.5071, 0.6380, 0.4880, 0.4839, 0.5357, 0.4449, 0.6005, 0.5517, 0.5336,\n",
       "        0.5518, 0.5323, 0.5054, 0.4366, 0.4524, 0.4543, 0.3836, 0.5545, 0.6104,\n",
       "        0.4881, 0.3697, 0.5246, 0.5113, 0.4667, 0.4970, 0.5710, 0.5753, 0.4292,\n",
       "        0.5142], grad_fn=<ViewBackward>)"
      ]
     },
     "execution_count": 40,
     "metadata": {},
     "output_type": "execute_result"
    }
   ],
   "source": [
    "MEASUREMENTS = 2\n",
    "NFM = 64\n",
    "ENC_DIM = 64\n",
    "\n",
    "myCNN = CNN(MEASUREMENTS, NFM, surrounding_size, ENC_DIM)\n",
    "myCNN(sample_input.unsqueeze(0)).flatten()"
   ]
  },
  {
   "cell_type": "code",
   "execution_count": null,
   "id": "cf980d6a",
   "metadata": {},
   "outputs": [],
   "source": []
  }
 ],
 "metadata": {
  "kernelspec": {
   "display_name": "Python 3 (ipykernel)",
   "language": "python",
   "name": "python3"
  },
  "language_info": {
   "codemirror_mode": {
    "name": "ipython",
    "version": 3
   },
   "file_extension": ".py",
   "mimetype": "text/x-python",
   "name": "python",
   "nbconvert_exporter": "python",
   "pygments_lexer": "ipython3",
   "version": "3.9.6"
  }
 },
 "nbformat": 4,
 "nbformat_minor": 5
}
